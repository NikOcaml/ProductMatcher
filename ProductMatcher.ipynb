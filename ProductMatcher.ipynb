{
  "nbformat": 4,
  "nbformat_minor": 0,
  "metadata": {
    "celltoolbar": "Initialization Cell",
    "kernelspec": {
      "display_name": "Python 3",
      "language": "python",
      "name": "python3"
    },
    "language_info": {
      "codemirror_mode": {
        "name": "ipython",
        "version": 3
      },
      "file_extension": ".py",
      "mimetype": "text/x-python",
      "name": "python",
      "nbconvert_exporter": "python",
      "pygments_lexer": "ipython3",
      "version": "3.8.5"
    },
    "varInspector": {
      "cols": {
        "lenName": 16,
        "lenType": 16,
        "lenVar": 40
      },
      "kernels_config": {
        "python": {
          "delete_cmd_postfix": "",
          "delete_cmd_prefix": "del ",
          "library": "var_list.py",
          "varRefreshCmd": "print(var_dic_list())"
        },
        "r": {
          "delete_cmd_postfix": ") ",
          "delete_cmd_prefix": "rm(",
          "library": "var_list.r",
          "varRefreshCmd": "cat(var_dic_list()) "
        }
      },
      "types_to_exclude": [
        "module",
        "function",
        "builtin_function_or_method",
        "instance",
        "_Feature"
      ],
      "window_display": false
    },
    "colab": {
      "name": "ProductMatcher.ipynb",
      "provenance": [],
      "collapsed_sections": []
    }
  },
  "cells": [
    {
      "cell_type": "markdown",
      "metadata": {
        "id": "-tbvNJi_sHi0"
      },
      "source": [
        "**NEXT THINGS TO DO**\r\n",
        "\r\n",
        "\r\n",
        "1.   NLTK zum Cleanen der Titel\r\n",
        "2.   Custom Accuracy Score\r\n",
        "3.   Bullet Points mit einbeziehen\r\n",
        "4.   Image Features mit einbeziehen\r\n",
        "\r\n",
        "\r\n",
        "\r\n"
      ]
    },
    {
      "cell_type": "code",
      "metadata": {
        "ExecuteTime": {
          "end_time": "2021-01-29T11:25:39.961903Z",
          "start_time": "2021-01-29T11:25:32.210134Z"
        },
        "init_cell": true,
        "id": "fbblu69eGA7H"
      },
      "source": [
        "import requests\n",
        "from bs4 import BeautifulSoup\n",
        "import re\n",
        "import numpy as np\n",
        "import pandas as pd\n",
        "from skimage.transform import resize\n",
        "from PIL import Image\n",
        "from io import BytesIO\n",
        "import tensorflow as tf\n",
        "import tensorflow_hub as hub\n",
        "import statistics\n",
        "import matplotlib.pyplot as plt;\n",
        "from google.colab import files\n",
        "from sklearn import metrics\n",
        "import seaborn as sb"
      ],
      "execution_count": 66,
      "outputs": []
    },
    {
      "cell_type": "code",
      "metadata": {
        "colab": {
          "base_uri": "https://localhost:8080/"
        },
        "id": "jxnh9ZDSAPCN",
        "outputId": "0a58d62b-0088-4cdb-935b-fccd4c85547b"
      },
      "source": [
        "from google.colab import drive\n",
        "drive.mount('/content/drive')"
      ],
      "execution_count": 44,
      "outputs": [
        {
          "output_type": "stream",
          "text": [
            "Drive already mounted at /content/drive; to attempt to forcibly remount, call drive.mount(\"/content/drive\", force_remount=True).\n"
          ],
          "name": "stdout"
        }
      ]
    },
    {
      "cell_type": "code",
      "metadata": {
        "ExecuteTime": {
          "end_time": "2021-01-29T11:25:39.968898Z",
          "start_time": "2021-01-29T11:25:39.963900Z"
        },
        "id": "h1YiYdorGA7K"
      },
      "source": [
        "#Der Header funkt\n",
        "HEADERS = {'User-Agent':\n",
        "            'Mozilla/5.0 (Windows NT 6.1) AppleWebKit/537.36 (KHTML, like Gecko) Chrome/41.0.2228.0 Safari/537.36',\n",
        "            'Accept-Language': 'en-US, en;q=0.5'}"
      ],
      "execution_count": 45,
      "outputs": []
    },
    {
      "cell_type": "markdown",
      "metadata": {
        "id": "4yslMOzoGA7M"
      },
      "source": [
        "2 Verschiedene \"Modi\":\n",
        "- 1  Automatisches Erstellen der Listen anhand von Keyword und Referenzprodukt\n",
        "- 2 Bearbeitung (Score assessment) existierender CSVs"
      ]
    },
    {
      "cell_type": "code",
      "metadata": {
        "ExecuteTime": {
          "end_time": "2021-01-29T11:25:39.987887Z",
          "start_time": "2021-01-29T11:25:39.972895Z"
        },
        "id": "TrVEr0yyGA7M"
      },
      "source": [
        "Modi=2 #1 oder 2\n",
        "#Path_CSV=r\"/content/contrastive_dataset.csv\""
      ],
      "execution_count": 47,
      "outputs": []
    },
    {
      "cell_type": "code",
      "metadata": {
        "ExecuteTime": {
          "end_time": "2021-01-29T11:25:40.067443Z",
          "start_time": "2021-01-29T11:25:39.997881Z"
        },
        "id": "s_t6NrIQGA7N"
      },
      "source": [
        "#1:\n",
        "def Get_items(soups):\n",
        "  urls=[]\n",
        "  Titles=[]\n",
        "  ASINs=[]\n",
        "  for soup in soups:\n",
        "      for Prod_q in soup.select(\"a.a-link-normal.a-text-normal\"):\n",
        "          Prod=Prod_q.select('span.a-size-base-plus.a-color-base.a-text-normal')\n",
        "          if Prod!=[]:\n",
        "              Titles.append(Prod[0].get_text())\n",
        "              hreff=re.search(\"(?<=dp).*\", Prod_q.find_parent().find(name=\"a\")[\"href\"]).group(0)\n",
        "              if hreff[0]==\"%\":\n",
        "                  ASINs.append(hreff.split(\"%\")[1][2:])\n",
        "              else:\n",
        "                  ASINs.append(hreff.split(\"/\")[1])\n",
        "  return Titles, ASINs\n",
        "if Modi==1:\n",
        "    #Keyword (Manuell)\n",
        "    Keywords=[\"Haarschere\"]\n",
        "    #Titel des Ref. Produkts (Manuell)\n",
        "    Ref_Prod=\"Haarschere Premium Friseurscheren, Lidasen Scharfe Licht Ausdünnen Haarschneideschere, Edelstahl Friseurschere Profi Frisörschere mit Etui, Perfekter Effilierschere für Damen und Herren\"\n",
        "    #Soups der Result pages\n",
        "    Result_soups = [BeautifulSoup(requests.get(\"https://www.amazon.de/s?k=\"+keyw.replace(\" \", \"+\"), headers=HEADERS).text, \"html5lib\") for keyw in Keywords]\n",
        "    #Gibt Listen der ASINs und Titel der Produkte wieder\n",
        "      \n",
        "  #Listen der Titel und ASINs \n",
        "    Titles, ASINs=Get_items(Result_soups)\n",
        "#2:\n",
        "elif Modi==2:\n",
        "    #uploaded = files.upload()\n",
        "    Dataset=pd.read_csv(\"/content/drive/MyDrive/contrastive_dataset.csv\", index_col=\"ASIN\")\n",
        "    ASINs=list(Dataset.index)\n",
        "    Titles=list(Dataset.Title)\n",
        "    Ref_Prod=list(Dataset[Dataset.Comment==\"Referenz\"].Title)[0]\n",
        "urls=[\"https://www.amazon.de/dp/\"+ ASIN for ASIN in ASINs]"
      ],
      "execution_count": 48,
      "outputs": []
    },
    {
      "cell_type": "code",
      "metadata": {
        "ExecuteTime": {
          "end_time": "2021-01-29T11:25:40.100403Z",
          "start_time": "2021-01-29T11:25:40.069422Z"
        },
        "id": "Y8oTd2cXGA7N"
      },
      "source": [
        "#Provisorische Blacklist. Elemente aus dieser Liste werden aus den Titeln entfernt.\n",
        "Clean_Prov=[\",\", \"/\", \"(\", \")\", \"|\", \".\", \"-\"]\n",
        "\n",
        "#Entfernt Strings die in \"Clean_prov\" enthalten sind aus den Titeln\n",
        "#Und Gibt Listen der übrigen Wörter wieder: [[\"Titel(,) Test\"], [\"Test|2\"]] -> [[\"Titel\", \"Test\"], [\"Test\", \"2\"]]\n",
        "def Clean_WordLister(Title, Clean=Clean_Prov):\n",
        "    for elem in Clean:\n",
        "        Title=Title.replace(elem, \"\")\n",
        "    #return list(dict.fromkeys(Title.lower().split(\" \")))\n",
        "    return list(filter(None, list(dict.fromkeys(Title.lower().split(\" \")))))\n",
        "#S.o.\n",
        "def Clean_SentenceLister(Title, Clean=Clean_Prov):\n",
        "  for elem in Clean:\n",
        "    Title=Title.replace(elem, \"\")\n",
        "  return Title.lower()\n",
        "#Wendet Clean_wordlister auf den Referenztitel und die Vergleichstitel\n",
        "#der Results an und speichert diese Listen in Clean_ref_W & Clean_Titles_W\n",
        "Clean_Ref_W=Clean_WordLister(Ref_Prod)\n",
        "Clean_Titles_W=[]\n",
        "for elem in Titles:\n",
        "  Title=Clean_WordLister(elem)\n",
        "  Clean_Titles_W.append(Title)\n",
        "\n",
        "Clean_Ref_S=Clean_SentenceLister(Ref_Prod)\n",
        "Clean_Titles_S=[]\n",
        "for elem in Titles:\n",
        "  Title=Clean_SentenceLister(elem)\n",
        "  Clean_Titles_S.append(Title)\n",
        "#Für jedes Wort im Titel des Referenzprodukts das im zum vergleichenden Produkttitel vorkommt\n",
        "#+1 Score, Geteilt durch die Anzahl der Wörter, d.h. max. Score = 1\n",
        "def Assess_products(titles=Clean_Titles_W, ref=Clean_Ref_W):\n",
        "    Scores=np.zeros((len(titles)))\n",
        "    for elem in ref:\n",
        "        for i in range(len(titles)):\n",
        "            for j in range(len(titles[i])):\n",
        "                if elem==titles[i][j]:\n",
        "                    Scores[i]+=1\n",
        "    return [Scores[i]/len(titles[i]) for i in range(len(titles))]\n",
        "Dataset[\"EasyScore\"]=Assess_products()"
      ],
      "execution_count": 49,
      "outputs": []
    },
    {
      "cell_type": "code",
      "metadata": {
        "ExecuteTime": {
          "end_time": "2021-01-29T11:25:52.897632Z",
          "start_time": "2021-01-29T11:25:40.103402Z"
        },
        "id": "xi93LVfMGA7O"
      },
      "source": [
        "#Produktbilder\n",
        "Session = requests.Session()\n",
        "Session.headers.update({\n",
        "    \"User-Agent\": \"Mozilla/5.0 (Macintosh; Intel Mac OS X 10_15_3) AppleWebKit/605.1.15 (KHTML, like Gecko) Version/13.0.5 Safari/605.1.15\"\n",
        "})\n",
        "def get_product_image(ASINs, session=Session):\n",
        "    response = session.get(f\"https://www.amazon.de/dp/{ASINs}\")\n",
        "    soup = BeautifulSoup(response.text, \"html.parser\")\n",
        "    image_url = soup.find(\"div\", {\"id\": \"imgTagWrapperId\"}).find(\"img\").get(\"data-old-hires\")\n",
        "    image = Image.open(BytesIO(requests.get(image_url).content))\n",
        "    image = np.array(image)\n",
        "    return resize(image, (256, 256, 3))\n",
        "#Embedding Model\n",
        "embedding = hub.KerasLayer(\n",
        "    \"https://tfhub.dev/google/nnlm-de-dim128-with-normalization/2\", \n",
        "    input_shape=[],\n",
        "    dtype=tf.string)"
      ],
      "execution_count": 50,
      "outputs": []
    },
    {
      "cell_type": "code",
      "metadata": {
        "id": "njzDreSNr64Y"
      },
      "source": [
        "#Bildung der Wortvektoren anhand der Clean_Titles_W\r\n",
        "#Embeddings werden in einem Dictionary gespeichert und falls existent wird\r\n",
        "#Dieses abgerufen anstatt embedding nochmal zu callen.\r\n",
        "def Embedd_Titles_W(Title_List=Clean_Titles_W):\r\n",
        "    Embeddeds={}\r\n",
        "    Ordered_Emb=[]\r\n",
        "    for i in range(len(Title_List)):\r\n",
        "        Ordered_Emb.append([])\r\n",
        "        for j in Title_List[i]:\r\n",
        "          if j not in Embeddeds.keys():\r\n",
        "            Embeddeds[j]=embedding([j])\r\n",
        "          Ordered_Emb[i].append(Embeddeds[j])\r\n",
        "    return Ordered_Emb\r\n",
        "Emb_W=Embedd_Titles_W()\r\n",
        "Clean_Ref_Emb_W=Embedd_Titles_W(Clean_Ref_W)\r\n",
        "#Bildung der Satzvektoren anhand der Clean_Titles_S\r\n",
        "def Embedd_Titles_S(Titles=Clean_Titles_S):\r\n",
        "  return [embedding([i]) for i in Titles]\r\n",
        "Emb_S=Embedd_Titles_S()\r\n",
        "Clean_Ref_Emb_S=Embedd_Titles_S([Clean_Ref_S])\r\n",
        "#Verschiedene Metriken der Vektoren\r\n",
        "def Euclid(Embedd1, Embedd2):\r\n",
        "    return np.linalg.norm(Embedd1-Embedd2)\r\n",
        "def Manhattan(Embedd1, Embedd2):\r\n",
        "    return np.sum(np.abs(Embedd1-Embedd2))\r\n",
        "def Maximums(Embedd1, Embedd2):\r\n",
        "    return np.max(np.abs(Embedd1-Embedd2))\r\n",
        "def Cos_Sim(Embedd1, Embedd2):\r\n",
        "    a_normalized = tf.nn.l2_normalize(Embedd1, axis=-1)\r\n",
        "    b_normalized = tf.nn.l2_normalize(Embedd2, axis=-1)\r\n",
        "    similarity = np.sum(tf.reduce_sum(tf.multiply(a_normalized, b_normalized), axis=-1))\r\n",
        "    return similarity\r\n",
        "def Vec_Score_W(Ordered_Emb=Emb_W, Clean_Ref=Clean_Ref_Emb_W):\r\n",
        "    Scores_Euclid=[]\r\n",
        "    Scores_Manhattan=[]\r\n",
        "    Scores_Maximums=[]\r\n",
        "    Scores_Cos=[]\r\n",
        "    for emb in Ordered_Emb:\r\n",
        "        Temp_Scores=[[],[],[],[]]\r\n",
        "        for elem in emb:\r\n",
        "          for ref in Clean_Ref:\r\n",
        "              Temp_Scores[0].append(Euclid(elem, ref))\r\n",
        "              Temp_Scores[1].append(Manhattan(elem, ref))\r\n",
        "              Temp_Scores[2].append(Maximums(elem, ref))\r\n",
        "              Temp_Scores[3].append(Cos_Sim(elem, ref))\r\n",
        "        Scores_Euclid.append(np.sum(Temp_Scores[0])/len(emb))\r\n",
        "        Scores_Manhattan.append(np.sum(Temp_Scores[1])/len(emb))\r\n",
        "        Scores_Maximums.append(np.sum(Temp_Scores[2])/len(emb))\r\n",
        "        Scores_Cos.append(np.sum(Temp_Scores[3])/len(emb))\r\n",
        "    return Scores_Euclid, Scores_Manhattan, Scores_Maximums, Scores_Cos\r\n",
        "def Vec_Score_S(Ordered_Emb=Emb_S, Clean_Ref=Clean_Ref_Emb_S):\r\n",
        "    Scores_Euclid=[]\r\n",
        "    Scores_Manhattan=[]\r\n",
        "    Scores_Maximums=[]\r\n",
        "    Scores_Cos=[]\r\n",
        "    for elem in Ordered_Emb:\r\n",
        "      Scores_Euclid.append(Euclid(elem, Clean_Ref))\r\n",
        "      Scores_Manhattan.append(Manhattan(elem, Clean_Ref))\r\n",
        "      Scores_Maximums.append(Maximums(elem, Clean_Ref))\r\n",
        "      Scores_Cos.append(Cos_Sim(elem, Clean_Ref))\r\n",
        "    return Scores_Euclid, Scores_Manhattan, Scores_Maximums, Scores_Cos"
      ],
      "execution_count": 51,
      "outputs": []
    },
    {
      "cell_type": "code",
      "metadata": {
        "ExecuteTime": {
          "end_time": "2021-01-29T11:26:08.991513Z",
          "start_time": "2021-01-29T11:25:52.911514Z"
        },
        "id": "czZruDYkGA7P"
      },
      "source": [
        "Euc_W, Man_W, Maxi_W, Cos_W = Vec_Score_W()\n",
        "Dataset[\"Euclid_W\"]=(Euc_W-np.mean(Euc_W))*1/np.std(Euc_W)\n",
        "Dataset[\"Manhattan_W\"]=(Man_W-np.mean(Man_W))*1/np.std(Man_W)\n",
        "Dataset[\"Max_W\"]=(Maxi_W-np.mean(Maxi_W))*1/np.std(Maxi_W)\n",
        "Dataset[\"Cos_W\"]=(Cos_W-np.mean(Cos_W))*1/np.std(Cos_W)\n",
        "Euc_S, Man_S, Maxi_S, Cos_S=Vec_Score_S()\n",
        "Dataset[\"Euclid_S\"]=(Euc_S-np.mean(Euc_S))*1/np.std(Euc_S)\n",
        "Dataset[\"Manhattan_S\"]=(Man_S-np.mean(Man_S))*1/np.std(Man_S)\n",
        "Dataset[\"Max_S\"]=(Maxi_S-np.mean(Maxi_S))*1/np.std(Maxi_S)\n",
        "Dataset[\"Cos_S_\"]=(Cos_S-np.mean(Cos_S))*1/np.std(Cos_S)"
      ],
      "execution_count": 52,
      "outputs": []
    },
    {
      "cell_type": "code",
      "metadata": {
        "id": "drcBZTg0Dr3Z"
      },
      "source": [
        "W_Scores=[Euc_W, Man_W, Maxi_W, Cos_W]\r\n",
        "S_Scores=[Euc_S, Man_S, Maxi_S, Cos_S]"
      ],
      "execution_count": 63,
      "outputs": []
    },
    {
      "cell_type": "code",
      "metadata": {
        "id": "dURy1s03ELg0"
      },
      "source": [
        "Accuracy_W=[]\r\n",
        "for i in W_Scores:\r\n",
        "  Accuracy_W.append(abs(Dataset[\"Product class\"]-np.array(i)/np.max(i)))"
      ],
      "execution_count": 64,
      "outputs": []
    },
    {
      "cell_type": "code",
      "metadata": {
        "id": "2auiz0eZEVs0"
      },
      "source": [
        "Accuracy_S=[]\r\n",
        "for i in S_Scores:\r\n",
        "  Accuracy_S.append(abs(Dataset[\"Product class\"]-np.array(i)/np.max(i)))"
      ],
      "execution_count": 65,
      "outputs": []
    },
    {
      "cell_type": "code",
      "metadata": {
        "colab": {
          "base_uri": "https://localhost:8080/",
          "height": 345
        },
        "id": "rRbQymittRaG",
        "outputId": "f65096a6-da83-4fd1-ab32-1dea0ddae52d"
      },
      "source": [
        "%matplotlib inline\r\n",
        "sb.heatmap(Dataset.iloc[:, 6:], vmin=0, vmax=1)"
      ],
      "execution_count": 83,
      "outputs": [
        {
          "output_type": "execute_result",
          "data": {
            "text/plain": [
              "<matplotlib.axes._subplots.AxesSubplot at 0x7f4773e88390>"
            ]
          },
          "metadata": {
            "tags": []
          },
          "execution_count": 83
        },
        {
          "output_type": "display_data",
          "data": {
            "image/png": "[encoded data removed]",
            "text/plain": [
              "<Figure size 432x288 with 2 Axes>"
            ]
          },
          "metadata": {
            "tags": [],
            "needs_background": "light"
          }
        }
      ]
    },
    {
      "cell_type": "code",
      "metadata": {
        "id": "ycCCRj_jtR9d"
      },
      "source": [
        ""
      ],
      "execution_count": null,
      "outputs": []
    }
  ]
}