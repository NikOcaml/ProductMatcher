{
 "cells": [
  {
   "cell_type": "code",
   "execution_count": 1,
   "metadata": {
    "ExecuteTime": {
     "end_time": "2021-01-05T00:39:23.628555Z",
     "start_time": "2021-01-05T00:39:23.624558Z"
    }
   },
   "outputs": [],
   "source": [
    "import requests\n",
    "from bs4 import BeautifulSoup\n",
    "import re\n",
    "import numpy as np\n",
    "import pandas as pd\n",
    "from skimage.transform import resize\n",
    "from PIL import Image\n",
    "from io import BytesIO\n",
    "import tensorflow as tf\n",
    "import tensorflow_hub as hub\n",
    "import statistics\n",
    "import matplotlib.pyplot as plt;"
   ]
  },
  {
   "cell_type": "code",
   "execution_count": 2,
   "metadata": {},
   "outputs": [],
   "source": [
    "#Der Header funkt\n",
    "HEADERS = {'User-Agent':\n",
    "            'Mozilla/5.0 (Windows NT 6.1) AppleWebKit/537.36 (KHTML, like Gecko) Chrome/41.0.2228.0 Safari/537.36',\n",
    "            'Accept-Language': 'en-US, en;q=0.5'}"
   ]
  },
  {
   "cell_type": "markdown",
   "metadata": {},
   "source": [
    "2 Verschiedene \"Modi\":\n",
    "- 1  Automatisches Erstellen der Listen anhand von Keyword und Referenzprodukt\n",
    "- 2 Bearbeitung (Score assessment) existierender CSVs"
   ]
  },
  {
   "cell_type": "code",
   "execution_count": 3,
   "metadata": {},
   "outputs": [],
   "source": [
    "Modi=2 #1 oder 2\n",
    "Path_CSV=r\"C:\\Users\\Nikol\\Desktop\\contrastive_dataset.csv\""
   ]
  },
  {
   "cell_type": "code",
   "execution_count": 4,
   "metadata": {},
   "outputs": [],
   "source": [
    "#1:\n",
    "if Modi==1:\n",
    "    Keywords=[\"Haarschere\"]\n",
    "    #Titel des Ref. Produkts (muss noch angepasst werden auf Liste von Links..)\n",
    "    Ref_prod=\"Haarschere Premium Friseurscheren, Lidasen Scharfe Licht Ausdünnen Haarschneideschere, Edelstahl Friseurschere Profi Frisörschere mit Etui, Perfekter Effilierschere für Damen und Herren\"\n",
    "    #Soups der Result pages\n",
    "    Result_soups = [BeautifulSoup(requests.get(\"https://www.amazon.de/s?k=\"+keyw.replace(\" \", \"+\"), headers=HEADERS).text, \"html5lib\") for keyw in Keywords]\n",
    "    #Gibt Listen der ASINs und Titel der Produkte wieder\n",
    "    def Get_items(soups):\n",
    "        urls=[]\n",
    "        Titles=[]\n",
    "        ASINs=[]\n",
    "        for soup in soups:\n",
    "            for Prod_q in soup.select(\"a.a-link-normal.a-text-normal\"):\n",
    "                Prod=Prod_q.select('span.a-size-base-plus.a-color-base.a-text-normal')\n",
    "                if Prod!=[]:\n",
    "                    Titles.append(Prod[0].get_text())\n",
    "                    hreff=re.search(\"(?<=dp).*\", Prod_q.find_parent().find(name=\"a\")[\"href\"]).group(0)\n",
    "                    if hreff[0]==\"%\":\n",
    "                        ASINs.append(hreff.split(\"%\")[1][2:])\n",
    "                    else:\n",
    "                        ASINs.append(hreff.split(\"/\")[1])\n",
    "        return Titles, ASINs\n",
    "    #Listen der Titel und ASINs \n",
    "    Titles, ASINs=Get_items(Result_soups)\n",
    "\n",
    "#2:\n",
    "elif Modi==2:\n",
    "    Dataset=pd.read_csv(Path_CSV, index_col=\"ASIN\")\n",
    "    ASINs=list(Dataset.index)\n",
    "    Titles=list(Dataset.Title)\n",
    "    Ref_prod=list(Dataset[Dataset.Comment==\"Referenz\"].Title)[0]\n",
    "\n",
    "#urls=[\"https://www.amazon.de/dp/\"+ ASIN for ASIN in ASINs]"
   ]
  },
  {
   "cell_type": "code",
   "execution_count": 5,
   "metadata": {},
   "outputs": [],
   "source": [
    "#Provisorische Blacklist. Elemente aus dieser Liste werden aus den Titeln entfernt.\n",
    "Clean_prov=[\",\", \"/\", \"(\", \")\", \"|\", \".\", \"- \"]\n",
    "\n",
    "#Entfernt Strings die in \"Clean_prov\" enthalten sind aus den Titeln\n",
    "#Und Gibt Listen der übrigen Wörter wieder: \"Titel(,) Test\" -> [\"Titel\", \"Test\"]\n",
    "def Clean_wordlister(Title, Clean=Clean_prov):\n",
    "    for elem in Clean:\n",
    "        Title=Title.replace(elem, \"\")\n",
    "    #return list(dict.fromkeys(Title.lower().split(\" \")))\n",
    "    return list(filter(None, list(dict.fromkeys(Title.lower().split(\" \")))))\n",
    "\n",
    "#Wendet Clean_wordlister auf den Referenztitel und die Vergleichstitel\n",
    "#der Results an und speichert diese Listen in Clean_ref & Clean_Titles\n",
    "Clean_ref=Clean_wordlister(Ref_prod)\n",
    "Clean_Titles=[]\n",
    "for elem in Titles:\n",
    "    Title=Clean_wordlister(elem)\n",
    "    Clean_Titles.append(Title)\n",
    "\n",
    "#Für jedes Wort im Titel des Referenzprodukts das im zum vergleichenden Produkttitel vorkommt\n",
    "#+1 Score, Geteilt durch die Anzahl der Wörter, d.h. max. Score = 1\n",
    "def Assess_products(titles=Clean_Titles, ref=Clean_ref):\n",
    "    Scores=np.zeros((len(titles)))\n",
    "    for elem in ref:\n",
    "        for i in range(len(titles)):\n",
    "            for j in range(len(titles[i])):\n",
    "                if elem==titles[i][j]:\n",
    "                    Scores[i]+=1\n",
    "    return [Scores[i]/len(Clean_Titles[i]) for i in range(len(Clean_Titles))]\n",
    "#Dataset[\"EasyScore\"]=Assess_products()"
   ]
  },
  {
   "cell_type": "code",
   "execution_count": 6,
   "metadata": {},
   "outputs": [],
   "source": [
    "#Produktbilder\n",
    "Session = requests.Session()\n",
    "Session.headers.update({\n",
    "    \"User-Agent\": \"Mozilla/5.0 (Macintosh; Intel Mac OS X 10_15_3) AppleWebKit/605.1.15 (KHTML, like Gecko) Version/13.0.5 Safari/605.1.15\"\n",
    "})\n",
    "def get_product_image(ASINs, session=Session):\n",
    "    response = session.get(f\"https://www.amazon.de/dp/{ASINs}\")\n",
    "    soup = BeautifulSoup(response.text, \"html.parser\")\n",
    "    image_url = soup.find(\"div\", {\"id\": \"imgTagWrapperId\"}).find(\"img\").get(\"data-old-hires\")\n",
    "    image = Image.open(BytesIO(requests.get(image_url).content))\n",
    "    image = np.array(image)\n",
    "    return resize(image, (256, 256, 3))\n",
    "#Wortvektoren\n",
    "embedding = hub.KerasLayer(\n",
    "    \"https://tfhub.dev/google/nnlm-de-dim128-with-normalization/2\", \n",
    "    input_shape=[],\n",
    "    dtype=tf.string)\n",
    "#Bildung der Wortvektoren anhand der Clean_Titles\n",
    "#Embeddings werden in einem Dictionary gespeichert, um embedding so wenig wie möglich zu callen\n",
    "def Embedd_Titles_W(Title_List=Clean_Titles):\n",
    "    Embeddeds={}\n",
    "    Ordered_Emb=[]\n",
    "    for i in range(len(Title_List)):\n",
    "        Ordered_Emb.append([])\n",
    "        for j in Title_List[i]:\n",
    "            if j not in Embeddeds.keys():\n",
    "                Embeddeds[j]=embedding([j])\n",
    "            Ordered_Emb[i].append(Embeddeds[j])\n",
    "    return Ordered_Emb, Embeddeds\n",
    "Clean_Ref_Emb=Embedd_Titles_W(Clean_ref)[0]\n",
    "Ord_Emb, Embeddeds=Embedd_Titles_W(Clean_Titles)\n",
    "#Verschiedene Metriken der Vektoren\n",
    "def Euclid(word1, word2):\n",
    "    return np.linalg.norm(Embeddeds[word1]-Embeddeds[word1])\n",
    "def Euclid1(Embedd1, Embedd2):\n",
    "    return np.linalg.norm(Embedd1-Embedd2)\n",
    "def Manhattan(word1, word2):\n",
    "    return np.sum(np.abs(Embeddeds[word1]-Embeddeds[word2]))\n",
    "def Manhattan1(Embedd1, Embedd2):\n",
    "    return np.sum(np.abs(Embedd1-Embedd2))\n",
    "def Maximums(word1, word2):\n",
    "    return np.max(np.abs(Embeddeds[word1]-Embeddeds[word2]))\n",
    "def Maximums1(Embedd1, Embedd2):\n",
    "    return np.max(np.abs(Embedd1-Embedd2))\n",
    "#def Cos_Sim(word1, word2):\n",
    "def Vec_Score(Ordered_Emb=Ord_Emb, Clean_Ref=Clean_Ref_Emb):\n",
    "    Scores_Euclid=[]\n",
    "    Scores_Manhattan=[]\n",
    "    Scores_Maximums=[]\n",
    "    Scores_Cos=[]\n",
    "    for emb in Ordered_Emb:\n",
    "        Temp_Scores=[[],[],[],[]]\n",
    "        for elem in emb:\n",
    "            for ref in Clean_Ref:\n",
    "                Temp_Scores[0].append(Euclid1(elem, ref))\n",
    "                Temp_Scores[1].append(Manhattan1(elem, ref))\n",
    "                Temp_Scores[2].append(Maximums1(elem, ref))\n",
    "                #Temp_Scores[3].append(Cos_Sim(elem, ref))\n",
    "        Scores_Euclid.append(np.sum(Temp_Scores[0])/len(emb))\n",
    "        Scores_Manhattan.append(np.sum(Temp_Scores[1])/len(emb))\n",
    "        Scores_Maximums.append(np.sum(Temp_Scores[2])/len(emb))\n",
    "    return Scores_Euclid, Scores_Manhattan, Scores_Maximums"
   ]
  },
  {
   "cell_type": "code",
   "execution_count": 7,
   "metadata": {},
   "outputs": [],
   "source": [
    "Euc, Man, Maxi=Vec_Score()\n",
    "Dataset[\"Euclid\"]=(Euc-np.mean(Euc))*1/np.std(Euc)\n",
    "Dataset[\"Manhattan\"]=(Man-np.mean(Man))*1/np.std(Man)\n",
    "Dataset[\"MaxMet\"]=(Maxi-np.mean(Maxi))*1/np.std(Maxi)"
   ]
  },
  {
   "cell_type": "code",
   "execution_count": 8,
   "metadata": {},
   "outputs": [
    {
     "data": {
      "image/png": "[encoded data removed]",
      "text/plain": [
       "<Figure size 432x288 with 1 Axes>"
      ]
     },
     "metadata": {
      "needs_background": "light"
     },
     "output_type": "display_data"
    }
   ],
   "source": [
    "for i in range(-3, 0, 1):\n",
    "    plt.scatter(range(len(Dataset.iloc[:, i])), Dataset.iloc[:, i], label=list(Dataset.columns.values.tolist())[i])\n",
    "    plt.legend()"
   ]
  }
 ],
 "metadata": {
  "kernelspec": {
   "display_name": "Python 3",
   "language": "python",
   "name": "python3"
  },
  "language_info": {
   "codemirror_mode": {
    "name": "ipython",
    "version": 3
   },
   "file_extension": ".py",
   "mimetype": "text/x-python",
   "name": "python",
   "nbconvert_exporter": "python",
   "pygments_lexer": "ipython3",
   "version": "3.8.5"
  },
  "varInspector": {
   "cols": {
    "lenName": 16,
    "lenType": 16,
    "lenVar": 40
   },
   "kernels_config": {
    "python": {
     "delete_cmd_postfix": "",
     "delete_cmd_prefix": "del ",
     "library": "var_list.py",
     "varRefreshCmd": "print(var_dic_list())"
    },
    "r": {
     "delete_cmd_postfix": ") ",
     "delete_cmd_prefix": "rm(",
     "library": "var_list.r",
     "varRefreshCmd": "cat(var_dic_list()) "
    }
   },
   "types_to_exclude": [
    "module",
    "function",
    "builtin_function_or_method",
    "instance",
    "_Feature"
   ],
   "window_display": false
  }
 },
 "nbformat": 4,
 "nbformat_minor": 4
}
