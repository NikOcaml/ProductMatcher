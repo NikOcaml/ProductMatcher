{
 "cells": [
  {
   "cell_type": "code",
   "execution_count": 249,
   "metadata": {
    "ExecuteTime": {
     "end_time": "2021-01-05T00:39:23.628555Z",
     "start_time": "2021-01-05T00:39:23.624558Z"
    }
   },
   "outputs": [],
   "source": [
    "import requests\n",
    "from bs4 import BeautifulSoup\n",
    "import re\n",
    "import numpy as np"
   ]
  },
  {
   "cell_type": "code",
   "execution_count": 292,
   "metadata": {},
   "outputs": [],
   "source": [
    "#Der Header funkt\n",
    "HEADERS = {'User-Agent':\n",
    "            'Mozilla/5.0 (Windows NT 6.1) AppleWebKit/537.36 (KHTML, like Gecko) Chrome/41.0.2228.0 Safari/537.36',\n",
    "            'Accept-Language': 'en-US, en;q=0.5'}\n",
    "#Die Keywords, für die die Results page angezeigt werden soll\n",
    "Keywords=[\"Laptop Ständer\"]\n",
    "#Titel des Ref. Produkts (muss noch angepasst werden auf Liste von Links..)\n",
    "Ref_prod=\"Laptop ständer, Einstellbar Notebook Ständer, Aluminium Faltbareres Laptopständer, kompatibel für Laptop (10-17 Zoll), MacBook Pro/Air, Dell, Lenovo (Silber)\""
   ]
  },
  {
   "cell_type": "code",
   "execution_count": 41,
   "metadata": {},
   "outputs": [],
   "source": [
    "#Soups der Result pages\n",
    "Result_soups = [BeautifulSoup(requests.get(\"https://www.amazon.de/s?k=\"+keyw.replace(\" \", \"+\"), headers=HEADERS).text, \"html5lib\") for keyw in Keywords]"
   ]
  },
  {
   "cell_type": "code",
   "execution_count": 206,
   "metadata": {},
   "outputs": [],
   "source": [
    "#Gibt Listen der ASINs und Titel der Produkte wieder\n",
    "def Get_items(soups):\n",
    "    urls=[]\n",
    "    Titles=[]\n",
    "    ASINs=[]\n",
    "    for soup in soups:\n",
    "        for Prod_q in soup.select(\"a.a-link-normal.a-text-normal\"):\n",
    "            Prod=Prod_q.select('span.a-size-base-plus.a-color-base.a-text-normal')\n",
    "            if Prod!=[]:\n",
    "                Titles.append(Prod[0].get_text())\n",
    "                hreff=re.search(\"(?<=dp).*\", Prod_q.find_parent().find(name=\"a\")[\"href\"]).group(0)\n",
    "                if hreff[0]==\"%\":\n",
    "                    ASINs.append(hreff.split(\"%\")[1][2:])\n",
    "                else:\n",
    "                    ASINs.append(hreff.split(\"/\")[1])\n",
    "    return Titles, ASINs"
   ]
  },
  {
   "cell_type": "code",
   "execution_count": 277,
   "metadata": {},
   "outputs": [
    {
     "name": "stdout",
     "output_type": "stream",
     "text": [
      "Laptop ständer, Einstellbar Notebook Ständer, Aluminium Faltbareres Laptopständer, kompatibel für Laptop (10-17 Zoll), MacBook Pro/Air, Dell, Lenovo (Silber)\n"
     ]
    }
   ],
   "source": [
    "#Listen der Titel und ASINs \n",
    "Titles, ASINs=Get_items(Result_soups)\n",
    "#Produkt-Urls\n",
    "urlss=[\"https://www.amazon.de/dp/\"+ ASIN for ASIN in ASINs]"
   ]
  },
  {
   "cell_type": "code",
   "execution_count": 297,
   "metadata": {},
   "outputs": [
    {
     "name": "stdout",
     "output_type": "stream",
     "text": [
      "['Laptop', 'ständer', 'Einstellbar', 'Notebook', 'Ständer', 'Aluminium', 'Faltbareres', 'Laptopständer', 'kompatibel', 'für', '10-17', 'Zoll', 'MacBook', 'ProAir', 'Dell', 'Lenovo', 'Silber']\n",
      "[0.375, 1.0, 0.45, 0.47619047619047616, 0.35, 0.2608695652173913, 0.32142857142857145, 0.2, 0.2608695652173913, 0.25, 0.0, 0.375, 0.2727272727272727, 0.1, 0.07692307692307693, 0.2222222222222222, 0.2608695652173913, 0.3333333333333333, 0.2608695652173913, 0.3333333333333333, 1.0, 0.47619047619047616, 0.36363636363636365, 0.30434782608695654, 0.43478260869565216, 0.2631578947368421, 0.47368421052631576, 0.3333333333333333, 0.2727272727272727, 0.23076923076923078, 0.2727272727272727, 0.375, 0.4583333333333333, 0.391304347826087, 0.07142857142857142, 0.125, 0.2727272727272727, 0.07142857142857142, 0.25, 0.16666666666666666, 0.3181818181818182, 0.34782608695652173, 0.47058823529411764, 0.2727272727272727, 0.1111111111111111, 0.3333333333333333, 0.16666666666666666, 0.4, 0.45454545454545453, 0.47368421052631576, 0.5, 0.3125, 0.5, 0.3, 0.34782608695652173, 0.3333333333333333, 0.2222222222222222, 0.2777777777777778, 0.45, 0.2608695652173913, 0.47619047619047616, 0.42857142857142855, 0.25, 0.3333333333333333, 0.4, 0.25, 0.2857142857142857, 0.2, 0.3125, 0.16666666666666666]\n"
     ]
    }
   ],
   "source": [
    "#Provisorische Blacklist. Elemente aus dieser Liste werden aus den Titeln entfernt.\n",
    "Clean_prov=[\",\", \"/\", \"(\", \")\"]\n",
    "\n",
    "#Entfernt Strings die in \"Clean_prov\" enthalten sind aus den Titeln\n",
    "#Und Gibt Listen der übrigen Wörter wieder: \"Titel(,) Test\" -> [\"Titel\", \"Test\"]\n",
    "def Clean_wordlister(Title, Clean=Clean_prov):\n",
    "    for elem in Clean:\n",
    "        Title=Title.replace(elem, \"\")\n",
    "    return list(dict.fromkeys(Title.split(\" \")))\n",
    "\n",
    "#Wendet Clean_wordlister auf den Referenztitel und die Vergleichstitel\n",
    "#der Results an und speichert diese Listen in Clean_ref & Clean_Titles\n",
    "Clean_ref=Clean_wordlister(Ref_prod)\n",
    "Clean_Titles=[]\n",
    "for elem in Titles:\n",
    "    Title=Clean_wordlister(elem)\n",
    "    Clean_Titles.append(Title)\n",
    "    \n",
    "#Für jedes Wort im Titel des Referenzprodukts das im zum vergleichenden Produkttitel vorkommt\n",
    "#+1 Score, Geteilt durch die Anzahl der Wärter\n",
    "def Assess_products(titles=Clean_Titles, ref=Clean_ref):\n",
    "    Scores=np.zeros((len(titles)))\n",
    "    for elem in ref:\n",
    "        for i in range(len(titles)):\n",
    "            for j in range(len(titles[i])):\n",
    "                if elem==titles[i][j]:\n",
    "                    Scores[i]+=1\n",
    "    return [Scores[i]/len(Clean_Titles[i]) for i in range(len(Clean_Titles))]\n",
    "print(Assess_products())"
   ]
  },
  {
   "cell_type": "code",
   "execution_count": null,
   "metadata": {},
   "outputs": [],
   "source": []
  },
  {
   "cell_type": "code",
   "execution_count": null,
   "metadata": {},
   "outputs": [],
   "source": []
  }
 ],
 "metadata": {
  "kernelspec": {
   "display_name": "Python 3",
   "language": "python",
   "name": "python3"
  },
  "language_info": {
   "codemirror_mode": {
    "name": "ipython",
    "version": 3
   },
   "file_extension": ".py",
   "mimetype": "text/x-python",
   "name": "python",
   "nbconvert_exporter": "python",
   "pygments_lexer": "ipython3",
   "version": "3.8.5"
  },
  "varInspector": {
   "cols": {
    "lenName": 16,
    "lenType": 16,
    "lenVar": 40
   },
   "kernels_config": {
    "python": {
     "delete_cmd_postfix": "",
     "delete_cmd_prefix": "del ",
     "library": "var_list.py",
     "varRefreshCmd": "print(var_dic_list())"
    },
    "r": {
     "delete_cmd_postfix": ") ",
     "delete_cmd_prefix": "rm(",
     "library": "var_list.r",
     "varRefreshCmd": "cat(var_dic_list()) "
    }
   },
   "types_to_exclude": [
    "module",
    "function",
    "builtin_function_or_method",
    "instance",
    "_Feature"
   ],
   "window_display": false
  }
 },
 "nbformat": 4,
 "nbformat_minor": 4
}
