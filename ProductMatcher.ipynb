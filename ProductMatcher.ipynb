{
  "nbformat": 4,
  "nbformat_minor": 0,
  "metadata": {
    "celltoolbar": "Initialization Cell",
    "kernelspec": {
      "display_name": "Python 3",
      "language": "python",
      "name": "python3"
    },
    "language_info": {
      "codemirror_mode": {
        "name": "ipython",
        "version": 3
      },
      "file_extension": ".py",
      "mimetype": "text/x-python",
      "name": "python",
      "nbconvert_exporter": "python",
      "pygments_lexer": "ipython3",
      "version": "3.8.5"
    },
    "varInspector": {
      "cols": {
        "lenName": 16,
        "lenType": 16,
        "lenVar": 40
      },
      "kernels_config": {
        "python": {
          "delete_cmd_postfix": "",
          "delete_cmd_prefix": "del ",
          "library": "var_list.py",
          "varRefreshCmd": "print(var_dic_list())"
        },
        "r": {
          "delete_cmd_postfix": ") ",
          "delete_cmd_prefix": "rm(",
          "library": "var_list.r",
          "varRefreshCmd": "cat(var_dic_list()) "
        }
      },
      "types_to_exclude": [
        "module",
        "function",
        "builtin_function_or_method",
        "instance",
        "_Feature"
      ],
      "window_display": false
    },
    "colab": {
      "name": "ProductMatcher.ipynb",
      "provenance": [],
      "collapsed_sections": [],
      "toc_visible": true
    }
  },
  "cells": [
    {
      "cell_type": "code",
      "metadata": {
        "ExecuteTime": {
          "end_time": "2021-01-29T11:25:39.961903Z",
          "start_time": "2021-01-29T11:25:32.210134Z"
        },
        "init_cell": true,
        "id": "fbblu69eGA7H"
      },
      "source": [
        "import requests\n",
        "from bs4 import BeautifulSoup\n",
        "import re\n",
        "import numpy as np\n",
        "import pandas as pd\n",
        "from skimage.transform import resize\n",
        "from PIL import Image\n",
        "from io import BytesIO\n",
        "import tensorflow as tf\n",
        "import tensorflow_hub as hub\n",
        "import statistics\n",
        "import matplotlib.pyplot as plt;\n",
        "from google.colab import files\n",
        "from sklearn import metrics\n",
        "import seaborn as sb"
      ],
      "execution_count": 1,
      "outputs": []
    },
    {
      "cell_type": "code",
      "metadata": {
        "ExecuteTime": {
          "end_time": "2021-01-29T11:25:52.897632Z",
          "start_time": "2021-01-29T11:25:40.103402Z"
        },
        "id": "xi93LVfMGA7O"
      },
      "source": [
        "embedding = hub.KerasLayer(\n",
        "    \"https://tfhub.dev/google/nnlm-de-dim128-with-normalization/2\", \n",
        "    input_shape=[],\n",
        "    dtype=tf.string)"
      ],
      "execution_count": 2,
      "outputs": []
    },
    {
      "cell_type": "code",
      "metadata": {
        "colab": {
          "base_uri": "https://localhost:8080/"
        },
        "id": "jxnh9ZDSAPCN",
        "outputId": "4df97164-09fa-4e80-e800-6c311d78a684"
      },
      "source": [
        "from google.colab import drive\n",
        "drive.mount('/content/drive')"
      ],
      "execution_count": 3,
      "outputs": [
        {
          "output_type": "stream",
          "text": [
            "Mounted at /content/drive\n"
          ],
          "name": "stdout"
        }
      ]
    },
    {
      "cell_type": "code",
      "metadata": {
        "ExecuteTime": {
          "end_time": "2021-01-29T11:25:39.968898Z",
          "start_time": "2021-01-29T11:25:39.963900Z"
        },
        "id": "h1YiYdorGA7K"
      },
      "source": [
        "#Der Header funkt\n",
        "HEADERS = {'User-Agent':\n",
        "            'Mozilla/5.0 (Windows NT 6.1) AppleWebKit/537.36 (KHTML, like Gecko) Chrome/41.0.2228.0 Safari/537.36',\n",
        "            'Accept-Language': 'de,pl;q=0.9,cs;q=0.8,en;q=0.7,ru;q=0.6,ko;q=0.5'}"
      ],
      "execution_count": 4,
      "outputs": []
    },
    {
      "cell_type": "markdown",
      "metadata": {
        "id": "4yslMOzoGA7M"
      },
      "source": [
        "2 Verschiedene \"Modi\":\n",
        "- 1  Automatisches Erstellen der Listen anhand von Keyword und Referenzprodukt\n",
        "- 2 Bearbeitung (Score assessment) existierender CSVs (Pfad ggf. einfach ändern)"
      ]
    },
    {
      "cell_type": "code",
      "metadata": {
        "ExecuteTime": {
          "end_time": "2021-01-29T11:25:39.987887Z",
          "start_time": "2021-01-29T11:25:39.972895Z"
        },
        "id": "TrVEr0yyGA7M"
      },
      "source": [
        "Modi=2 #1 oder 2\n",
        "PATH=\"/content/drive/MyDrive/contrastive_dataset (1).csv\""
      ],
      "execution_count": 5,
      "outputs": []
    },
    {
      "cell_type": "code",
      "metadata": {
        "ExecuteTime": {
          "end_time": "2021-01-29T11:25:40.067443Z",
          "start_time": "2021-01-29T11:25:39.997881Z"
        },
        "id": "s_t6NrIQGA7N",
        "colab": {
          "base_uri": "https://localhost:8080/"
        },
        "outputId": "85dbdfcd-9b25-4f0e-86d5-b5638859f94c"
      },
      "source": [
        "#1:\n",
        "def Get_items(soups):\n",
        "  urls=[]\n",
        "  Titles=[]\n",
        "  ASINs=[]\n",
        "  for soup in soups:\n",
        "    for Prod_q in soup.select(\"a.a-link-normal.a-text-normal\"):\n",
        "        Prod=Prod_q.select('span.a-size-base-plus.a-color-base.a-text-normal')\n",
        "        if Prod!=[]:\n",
        "            Titles.append(Prod[0].get_text())\n",
        "            hreff=re.search(\"(?<=dp).*\", Prod_q.find_parent().find(name=\"a\")[\"href\"]).group(0)\n",
        "            if hreff[0]==\"%\":\n",
        "                ASINs.append(hreff.split(\"%\")[1][2:])\n",
        "            else:\n",
        "                ASINs.append(hreff.split(\"/\")[1])\n",
        "  return Titles, ASINs\n",
        "if Modi==1:\n",
        "    #Keyword (Manuell)\n",
        "    Keywords=[\"Haarschere\"]\n",
        "    #Titel des Ref. Produkts (Manuell)\n",
        "    Ref_Prod=\"Haarschere Premium Friseurscheren, Lidasen Scharfe Licht Ausdünnen Haarschneideschere, Edelstahl Friseurschere Profi Frisörschere mit Etui, Perfekter Effilierschere für Damen und Herren\"\n",
        "    #Soups der Result pages\n",
        "    Result_soups = [BeautifulSoup(requests.get(\"https://www.amazon.de/s?k=\"+keyw.replace(\" \", \"+\"), headers=HEADERS).text, \"html5lib\") for keyw in Keywords]\n",
        "    #Gibt Listen der ASINs und Titel der Produkte wieder  \n",
        "    #Listen der Titel und ASINs \n",
        "    Titles, ASINs=Get_items(Result_soups)\n",
        "#2:\n",
        "elif Modi==2:\n",
        "    Dataset=pd.read_csv(PATH, index_col=\"ASIN\")\n",
        "    ASINs=list(Dataset.index)\n",
        "    #Ref_Prod=list(Dataset[Dataset.Comment==\"Referenz\"].Title)\n",
        "    Prod_Names=Dataset[\"Product name\"].unique()\n",
        "    Ref_Prod=list(Dataset[Dataset.Comment==\"Referenz\"].Title)\n",
        "    print(Prod_Names)\n",
        "    Product={}\n",
        "    Refs={}\n",
        "    for i in range(len(Prod_Names)):\n",
        "      Product[Prod_Names[i]]=Dataset[Dataset[\"Product name\"]==Prod_Names[i]]\n",
        "      Refs[Prod_Names[i]]=Ref_Prod[i]\n",
        "urls=[\"https://www.amazon.de/dp/\"+ ASIN for ASIN in ASINs]"
      ],
      "execution_count": 6,
      "outputs": [
        {
          "output_type": "stream",
          "text": [
            "['Aktenvernichter' 'Bürolocher' 'Effilierschere' 'Fusselrasierer'\n",
            " 'Haarschere' 'handy stativ' 'Laptop Ständer' 'Smoothie Maker']\n"
          ],
          "name": "stdout"
        }
      ]
    },
    {
      "cell_type": "markdown",
      "metadata": {
        "id": "eV5pfjcPt0W8"
      },
      "source": [
        "Cleaning als auch Varianten-Zuordnung."
      ]
    },
    {
      "cell_type": "code",
      "metadata": {
        "ExecuteTime": {
          "end_time": "2021-01-29T11:25:40.100403Z",
          "start_time": "2021-01-29T11:25:40.069422Z"
        },
        "id": "Y8oTd2cXGA7N"
      },
      "source": [
        "#Provisorische Blacklist. Elemente aus dieser Liste werden aus den Titeln entfernt.\n",
        "Clean_Prov=[\",\", \"/\", \"(\", \")\", \"|\", \".\", \"-\"]\n",
        "\n",
        "#Entfernt Strings die in \"Clean_prov\" enthalten sind aus den Titeln\n",
        "#Und Gibt Listen der übrigen Wörter wieder: [[\"Titel(,) Test\"], [\"Test|2\"]] -> [[\"Titel\", \"Test\"], [\"Test\", \"2\"]]\n",
        "def Clean_WordLister(Title, Clean=Clean_Prov):\n",
        "    for elem in Clean:\n",
        "        Title=Title.replace(elem, \"\")\n",
        "    #return list(dict.fromkeys(Title.lower().split(\" \")))\n",
        "    return list(filter(None, list(dict.fromkeys(Title.lower().split(\" \")))))\n",
        "#S.o.\n",
        "def Clean_SentenceLister(Title, Clean=Clean_Prov):\n",
        "  for elem in Clean:\n",
        "    Title=Title.replace(elem, \"\")\n",
        "  return Title.lower()\n",
        "#Returns Wörter nach denen in Key_Elements. Input am Besten von CleanSentenceLister.\n",
        "Key_Elements=[\"farbe\", \"stil\", \"länge\", \"größe\"]\n",
        "Emb_Keys={i: embedding([i]) for i in Key_Elements}\n",
        "def Preprocess_Title(Title, Tresh=0.1):\n",
        "  matched_elements={}\n",
        "  b=list(filter(None, Title.split(\" \")))\n",
        "  Emb_Sent=[embedding([d]) for d in b]\n",
        "  ret=[]\n",
        "  for q in Key_Elements:\n",
        "    a=list(filter(None, re.search('(?<='+q+').*', Title).group().split(\" \")))\n",
        "    c=[Euclid(Emb_Keys[q], j) for j in Emb_Sent]\n",
        "    ind=[]\n",
        "    for e in c:\n",
        "      if e < Tresh:\n",
        "        ret.append(Emb_Sent[c.index(e)])\n",
        "  return [ret.append(i) for i in a if i not in ret]\n",
        "    #matched_elements[q]=a[0]"
      ],
      "execution_count": 74,
      "outputs": []
    },
    {
      "cell_type": "markdown",
      "metadata": {
        "id": "iwsPPllStgym"
      },
      "source": [
        "Metriken und dessen Funktionen zur Berechnung der Abstände der Embeddings (Wort- als auch Satzvektoren)"
      ]
    },
    {
      "cell_type": "code",
      "metadata": {
        "id": "njzDreSNr64Y"
      },
      "source": [
        "#Bildung der Wortvektoren anhand der Clean_Titles_W\r\n",
        "#Embeddings werden in einem Dictionary gespeichert und falls existent wird\r\n",
        "#Dieses abgerufen anstatt embedding nochmal zu callen.\r\n",
        "def Embedd_Titles_W(Title_List):\r\n",
        "    Embeddeds={}\r\n",
        "    Ordered_Emb=[]\r\n",
        "    for i in range(len(Title_List)):\r\n",
        "        Ordered_Emb.append([])\r\n",
        "        for j in Title_List[i]:\r\n",
        "          if j not in Embeddeds.keys():\r\n",
        "            Embeddeds[j]=embedding([j])\r\n",
        "          Ordered_Emb[i].append(Embeddeds[j])\r\n",
        "    return Ordered_Emb\r\n",
        "def Euclid(Embedd1, Embedd2):\r\n",
        "    return np.linalg.norm(Embedd1-Embedd2)\r\n",
        "def Manhattan(Embedd1, Embedd2):\r\n",
        "    return np.sum(np.abs(Embedd1-Embedd2))\r\n",
        "def Maximums(Embedd1, Embedd2):\r\n",
        "    return np.max(np.abs(Embedd1-Embedd2))\r\n",
        "def Cos_Sim(Embedd1, Embedd2):\r\n",
        "    return np.array((Embedd1@np.array(Embedd2).T)/(np.linalg.norm(Embedd1)*np.linalg.norm(Embedd2)))\r\n",
        "#Für jedes Wort im Titel des Referenzprodukts das im zum vergleichenden Produkttitel vorkommt\r\n",
        "#+1 Score, Geteilt durch die Anzahl der Wörter, d.h. max. Score = 1\r\n",
        "def EasyScore(titles, ref):\r\n",
        "    Scores=np.zeros((len(titles)))\r\n",
        "    for elem in ref:\r\n",
        "        for i in range(len(titles)):\r\n",
        "            for j in range(len(titles[i])):\r\n",
        "                if elem==titles[i][j]:\r\n",
        "                    Scores[i]+=1\r\n",
        "    return [Scores[i]/len(titles[i]) for i in range(len(titles))]\r\n",
        "#Wortvektoren\r\n",
        "def Vec_Score_W(Ordered_Emb, Clean_Ref):\r\n",
        "    Scores_Euclid=[]\r\n",
        "    Scores_Manhattan=[]\r\n",
        "    Scores_Maximums=[]\r\n",
        "    Scores_Cos=[]\r\n",
        "    for emb in Ordered_Emb:\r\n",
        "        Temp_Scores=[[],[],[],[]]\r\n",
        "        for elem in emb:\r\n",
        "          for ref in Clean_Ref:\r\n",
        "              Temp_Scores[0].append(Euclid(elem, ref))\r\n",
        "              #Temp_Scores[1].append(Manhattan(elem, ref))\r\n",
        "              Temp_Scores[2].append(Maximums(elem, ref))\r\n",
        "              Temp_Scores[3].append(Cos_Sim(elem, ref))\r\n",
        "        Scores_Euclid.append(np.sum(Temp_Scores[0])/len(emb))\r\n",
        "        #Scores_Manhattan.append(np.sum(Temp_Scores[1])/len(emb))\r\n",
        "        Scores_Maximums.append(np.sum(Temp_Scores[2])/len(emb))\r\n",
        "        Scores_Cos.append(np.sum(Temp_Scores[3])/len(emb))\r\n",
        "    return Scores_Euclid, Scores_Maximums, Scores_Cos#, Scores_Manhattan\r\n",
        "#Satzvektoren\r\n",
        "def Vec_Score_S(Ordered_Emb, Clean_Ref):\r\n",
        "    Scores_Euclid=[]\r\n",
        "    #Scores_Manhattan=[]\r\n",
        "    Scores_Maximums=[]\r\n",
        "    Scores_Cos=[]\r\n",
        "    for elem in Ordered_Emb:\r\n",
        "      Scores_Euclid.append(Euclid(elem, Clean_Ref))\r\n",
        "      #Scores_Manhattan.append(Manhattan(elem, Clean_Ref))\r\n",
        "      Scores_Maximums.append(Maximums(elem, Clean_Ref))\r\n",
        "      Scores_Cos.append(Cos_Sim(elem, Clean_Ref))\r\n",
        "    return Scores_Euclid, Scores_Maximums, Scores_Cos#, Scores_Manhattan"
      ],
      "execution_count": 28,
      "outputs": []
    },
    {
      "cell_type": "markdown",
      "metadata": {
        "id": "6B-H0OSSs-vq"
      },
      "source": [
        "Fkt zur Standardiesierung der Scores: $MinMax$, $Z-Score$ oder $1/Max$"
      ]
    },
    {
      "cell_type": "code",
      "metadata": {
        "id": "EJp_jeQdhq8S"
      },
      "source": [
        "#Modes: \"MinMax\", \"Z-Score\", \"1/Max\"\r\n",
        "def Standardization(Score, Mode=\"Z-Score\"):\r\n",
        "  Score=np.array(Score)\r\n",
        "  a=len(Score)\r\n",
        "  Stand_Score=np.zeros(a)\r\n",
        "  if Mode==\"MinMax\":\r\n",
        "    Stand_Score=(Score-min(Score))*1/(max(Score)-min(Score))\r\n",
        "  elif Mode==\"Z-Score\":\r\n",
        "    Stand_Score=np.abs((Score-np.mean(Score))*1/np.std(Score))\r\n",
        "  elif Mode==\"1/Max\":\r\n",
        "    Stand_Score=np.abs(Score*(1/(max(Score))))\r\n",
        "  return Stand_Score"
      ],
      "execution_count": 9,
      "outputs": []
    },
    {
      "cell_type": "markdown",
      "metadata": {
        "id": "-iRFz7r5PMak"
      },
      "source": [
        "Kombinierte \"Master\" Fkt mit Input: (Produkt Name, Opt.: Referenzprodukt, Opt.: Modus) -> Output: (Stand. Scores)"
      ]
    },
    {
      "cell_type": "code",
      "metadata": {
        "id": "MQXptg_QPMBx"
      },
      "source": [
        "def Access_Scores(prod, ref=0, Modus=\"1/Max\"):\r\n",
        "  Prod=Product[prod]\r\n",
        "  if ref==0:\r\n",
        "    Ref=Refs[prod]\r\n",
        "  else:\r\n",
        "    Ref=Refs[ref]\r\n",
        "  Clean_Ref_W=Clean_WordLister(Ref)\r\n",
        "  Clean_Ref_S=Clean_SentenceLister(Ref)\r\n",
        "  Clean_Titles_W=[]\r\n",
        "  Clean_Titles_S=[]\r\n",
        "  for elem in Prod.Title:\r\n",
        "    Clean_Titles_W.append(Clean_WordLister(elem))\r\n",
        "    Clean_Titles_S.append(Clean_SentenceLister(elem))\r\n",
        "  Emb_W=Embedd_Titles_W(Clean_Titles_W)\r\n",
        "  Emb_S=[embedding([i]) for i in Clean_Titles_S]\r\n",
        "  Clean_Ref_Emb_W=[embedding([i]) for i in Clean_Ref_W]\r\n",
        "  Clean_Ref_Emb_S=embedding([Clean_Ref_S])\r\n",
        "  Euc_W, Maxi_W, Cos_W = Vec_Score_W(Emb_W, Clean_Ref_Emb_W)#Man_W\r\n",
        "  Euc_S, Maxi_S, Cos_S=Vec_Score_S(Emb_S, Clean_Ref_Emb_S)#Man_S\r\n",
        "  W_Scores=[Euc_W, Maxi_W, Cos_W]#Man_W\r\n",
        "  S_Scores=[Euc_S, Maxi_S, Cos_S]#Man_S\r\n",
        "  W_Scores_Norm=[Standardization(i, Mode=Modus) for i in W_Scores]\r\n",
        "  S_Scores_Norm=[Standardization(i, Mode=Modus) for i in S_Scores]\r\n",
        "  return W_Scores_Norm, S_Scores_Norm"
      ],
      "execution_count": 30,
      "outputs": []
    },
    {
      "cell_type": "code",
      "metadata": {
        "id": "6TFRWe6ImJyB"
      },
      "source": [
        "#Output: [Max_Accuracy, Best_Treshold]\r\n",
        "def Treshold_Opt(Score, Prod):\r\n",
        "  Classes=Product[Prod]\r\n",
        "  Classes=Classes[\"Product class\"].tolist()\r\n",
        "  med=np.median(Score)\r\n",
        "  minn=np.min(Score)\r\n",
        "  Tresh=0.5*(med+minn)\r\n",
        "  Max_Tresh=np.zeros(2)\r\n",
        "  while Tresh < 0.999:\r\n",
        "    Class_Pred=[0 if i < Tresh else 1 for i in Score]\r\n",
        "    temp=metrics.accuracy_score(Classes, Class_Pred)\r\n",
        "    if temp>Max_Tresh[0]:\r\n",
        "      Max_Tresh[0]=temp\r\n",
        "      Max_Tresh[1]=Tresh\r\n",
        "    Tresh+=0.0001\r\n",
        "  return Max_Tresh[0]"
      ],
      "execution_count": 25,
      "outputs": []
    },
    {
      "cell_type": "code",
      "metadata": {
        "id": "lk4X6hp8eAEa"
      },
      "source": [
        "Score_Names=[\"Euclid\", \"Max\", \"Cos\"]\r\n",
        "Opt_Scores_W=[]\r\n",
        "Opt_Scores_S=[]\r\n",
        "#print(\"Format: [Max. Accuracy, Best Treshold]\")\r\n",
        "for i in range(len(Prod_Names)):\r\n",
        "  Word, Sent = Access_Scores(Prod_Names[i])\r\n",
        "  #print(\"Wort-Scores\"+\" für \"+Prod_Names[i]+\":\")\r\n",
        "  for j in range(len(Word)):\r\n",
        "    Opt_Scores_W.append(Treshold_Opt(Word[j], Prod_Names[i]))\r\n",
        "    #print(Score_Names[j]+\": \"+str(Opt_Scores_W[-1]))\r\n",
        "  print(\"Satz-Scores\"+\" für \"+Prod_Names[i]+\":\")\r\n",
        "  for k in range(len(Sent)):\r\n",
        "    Opt_Scores_S.append(Treshold_Opt(Sent[k], Prod_Names[i]))\r\n",
        "    #print(Score_Names[k]+\": \"+str(Opt_Scores_S[-1]))"
      ],
      "execution_count": null,
      "outputs": []
    },
    {
      "cell_type": "code",
      "metadata": {
        "id": "W0sWIa5M1w8I"
      },
      "source": [
        "a=[np.mean(Opt_Scores_W[::3]),\r\n",
        "np.mean(Opt_Scores_W[1::3]),\r\n",
        "np.mean(Opt_Scores_W[2::3]),\r\n",
        "np.mean(Opt_Scores_S[::3]),\r\n",
        "np.mean(Opt_Scores_S[1::3]),\r\n",
        "np.mean(Opt_Scores_S[2::3])]\r\n",
        "b=[\"Euc_W_mean\", \"Max_W_mean\", \"Cos_W_mean\", \"Euc_S_mean\", \"Max_S_mean\", \"Cos_S_mean\"]\r\n",
        "c=dict(zip(b, a))\r\n",
        "c_df=pd.DataFrame.from_records([c])"
      ],
      "execution_count": 63,
      "outputs": []
    },
    {
      "cell_type": "code",
      "metadata": {
        "colab": {
          "base_uri": "https://localhost:8080/",
          "height": 298
        },
        "id": "N3eAvPFU0tDq",
        "outputId": "53b64b52-6a91-43c2-b2dc-1b1652b4d04f"
      },
      "source": [
        "#sb.barplot(x=np.arange(len(b)), y=a, color=\"salmon\")\r\n",
        "ax=sb.barplot(data=c_df, color=\"salmon\", saturation=0.5)\r\n",
        "plt.xlabel(\"Method\", size=14)\r\n",
        "plt.ylabel(\"Accuracy\", size=14)\r\n",
        "ax.set_xticklabels(ax.get_xticklabels(), rotation=40, ha=\"right\")\r\n",
        "plt.tight_layout()\r\n",
        "plt.show()"
      ],
      "execution_count": 70,
      "outputs": [
        {
          "output_type": "display_data",
          "data": {
            "image/png": "[encoded data removed]",
            "text/plain": [
              "<Figure size 432x288 with 1 Axes>"
            ]
          },
          "metadata": {
            "tags": [],
            "needs_background": "light"
          }
        }
      ]
    }
  ]
}